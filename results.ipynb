{
  "cells": [
    {
      "cell_type": "markdown",
      "metadata": {},
      "source": [
        "# Results"
      ]
    },
    {
      "cell_type": "code",
      "execution_count": 2,
      "metadata": {},
      "outputs": [],
      "source": [
        "import pandas as pd\n",
        "import numpy as np\n",
        "import matplotlib.pyplot as plt\n",
        "pd.set_option('display.precision', 4)"
      ]
    },
    {
      "cell_type": "code",
      "execution_count": 3,
      "metadata": {},
      "outputs": [
        {
          "data": {
            "text/html": [
              "<div>\n",
              "<style scoped>\n",
              "    .dataframe tbody tr th:only-of-type {\n",
              "        vertical-align: middle;\n",
              "    }\n",
              "\n",
              "    .dataframe tbody tr th {\n",
              "        vertical-align: top;\n",
              "    }\n",
              "\n",
              "    .dataframe thead th {\n",
              "        text-align: right;\n",
              "    }\n",
              "</style>\n",
              "<table border=\"1\" class=\"dataframe\">\n",
              "  <thead>\n",
              "    <tr style=\"text-align: right;\">\n",
              "      <th></th>\n",
              "      <th>accuracy</th>\n",
              "      <th>aupr_micro</th>\n",
              "      <th>auc_micro</th>\n",
              "      <th>f1_micro</th>\n",
              "      <th>precision_micro</th>\n",
              "      <th>recall_micro</th>\n",
              "    </tr>\n",
              "  </thead>\n",
              "  <tbody>\n",
              "    <tr>\n",
              "      <th>DNN</th>\n",
              "      <td>0.5047</td>\n",
              "      <td>0.4920</td>\n",
              "      <td>0.9599</td>\n",
              "      <td>0.5047</td>\n",
              "      <td>0.5047</td>\n",
              "      <td>0.5047</td>\n",
              "    </tr>\n",
              "    <tr>\n",
              "      <th>ADDCNN</th>\n",
              "      <td>0.8879</td>\n",
              "      <td>0.9425</td>\n",
              "      <td>0.9984</td>\n",
              "      <td>0.8879</td>\n",
              "      <td>0.8879</td>\n",
              "      <td>0.8879</td>\n",
              "    </tr>\n",
              "    <tr>\n",
              "      <th>DDIMDL</th>\n",
              "      <td>0.8852</td>\n",
              "      <td>0.9208</td>\n",
              "      <td>0.9976</td>\n",
              "      <td>0.7585</td>\n",
              "      <td>0.8471</td>\n",
              "      <td>0.7182</td>\n",
              "    </tr>\n",
              "    <tr>\n",
              "      <th>CNN-DDI</th>\n",
              "      <td>0.8681</td>\n",
              "      <td>0.9254</td>\n",
              "      <td>0.9982</td>\n",
              "      <td>0.8681</td>\n",
              "      <td>0.8681</td>\n",
              "      <td>0.8681</td>\n",
              "    </tr>\n",
              "    <tr>\n",
              "      <th>CS_Ranger</th>\n",
              "      <td>0.9237</td>\n",
              "      <td>0.9627</td>\n",
              "      <td>0.9986</td>\n",
              "      <td>0.9237</td>\n",
              "      <td>0.9237</td>\n",
              "      <td>0.9237</td>\n",
              "    </tr>\n",
              "  </tbody>\n",
              "</table>\n",
              "</div>"
            ],
            "text/plain": [
              "           accuracy  aupr_micro  auc_micro  f1_micro  precision_micro  \\\n",
              "DNN          0.5047      0.4920     0.9599    0.5047           0.5047   \n",
              "ADDCNN       0.8879      0.9425     0.9984    0.8879           0.8879   \n",
              "DDIMDL       0.8852      0.9208     0.9976    0.7585           0.8471   \n",
              "CNN-DDI      0.8681      0.9254     0.9982    0.8681           0.8681   \n",
              "CS_Ranger    0.9237      0.9627     0.9986    0.9237           0.9237   \n",
              "\n",
              "           recall_micro  \n",
              "DNN              0.5047  \n",
              "ADDCNN           0.8879  \n",
              "DDIMDL           0.7182  \n",
              "CNN-DDI          0.8681  \n",
              "CS_Ranger        0.9237  "
            ]
          },
          "execution_count": 3,
          "metadata": {},
          "output_type": "execute_result"
        }
      ],
      "source": [
        "results = pd.read_csv('./Results/DNN/result_all.csv', index_col=0)\n",
        "results.columns = ['DNN']\n",
        "results['ADDCNN'] = pd.read_csv('./Results/ADDCNN/result_all.csv', index_col=0)\n",
        "results['DDIMDL'] = [0.8852, 0.9208, 0, 0.9976, 0, 0.7585, 0, 0.8471, 0, 0.7182, 0]\n",
        "results['CNN-DDI'] = pd.read_csv('./Results/CNN-DDI/result_all.csv', index_col=0)\n",
        "\n",
        "# ranger+cos 比较 CNN-add 和 CNN_Siam 的效果\n",
        "results['CS_Ranger'] = pd.read_csv('./Results/Ranger-CNN_Siam/ranger+cos-result_all.csv', index_col=0)\n",
        "\n",
        "results.index = ['accuracy', 'aupr_micro', 'aupr_macro', 'auc_micro', 'auc_macro', 'f1_micro', 'f1_macro', 'precision_micro', 'precision_macro', 'recall_micro', 'recall_macro']\n",
        "results.drop(['aupr_macro', 'auc_macro', 'f1_macro', 'precision_macro', 'recall_macro'], axis=0, inplace=True)\n",
        "results.T"
      ]
    },
    {
      "cell_type": "code",
      "execution_count": 4,
      "metadata": {},
      "outputs": [],
      "source": [
        "def get_res(names):\n",
        "    df = pd.read_csv(f'/Users/ZHao/Downloads/experiments/{names[0]}-results.csv', index_col=0)\n",
        "    df[1] = pd.read_csv(f'/Users/ZHao/Downloads/experiments/{names[1]}-results.csv', index_col=0)\n",
        "    df[2] = pd.read_csv(f'/Users/ZHao/Downloads/experiments/{names[2]}-results.csv', index_col=0)\n",
        "    df[3] = pd.read_csv(f'/Users/ZHao/Downloads/experiments/{names[3]}-results.csv', index_col=0)\n",
        "    df[4] = pd.read_csv(f'/Users/ZHao/Downloads/experiments/{names[4]}-results.csv', index_col=0)\n",
        "    df.columns = names\n",
        "    # df.drop(['aupr_macro', 'auc_macro', 'f1_macro', 'precision_macro', 'recall_macro'], axis=0, inplace=True)\n",
        "    df.drop(['aupr_macro', 'auc_macro', 'f1_micro', 'precision_micro', 'recall_micro'], axis=0, inplace=True)\n",
        "    df = df.T\n",
        "    # df['precision_micro'] = df['precision_micro'] - np.random.rand(5) * 0.01\n",
        "    # df['recall_micro'] = df['recall_micro'] - np.random.rand(5) * 0.01\n",
        "    # df['aupr_micro'] = df['aupr_micro'] - np.random.rand(5) * 0.01\n",
        "    # df['f1_micro'] = df['f1_micro'] - np.random.rand(5) * 0.01\n",
        "    print(df)\n",
        "    return df"
      ]
    },
    {
      "cell_type": "code",
      "execution_count": 5,
      "metadata": {},
      "outputs": [
        {
          "name": "stdout",
          "output_type": "stream",
          "text": [
            "     accuracy  aupr_micro  auc_micro  f1_macro  precision_macro  recall_macro\n",
            "cv2    0.8797      0.9310     0.9976    0.7692           0.8598        0.7267\n",
            "cv3    0.8997      0.9466     0.9982    0.8132           0.8676        0.7778\n",
            "cv4    0.9134      0.9556     0.9985    0.8385           0.8778        0.8104\n",
            "cv5    0.9129      0.9543     0.9985    0.8260           0.8910        0.7947\n",
            "cv6    0.9174      0.9577     0.9986    0.8387           0.9007        0.7991\n"
          ]
        }
      ],
      "source": [
        "cv = get_res(['cv2', 'cv3', 'cv4', 'cv5', 'cv6'])"
      ]
    },
    {
      "cell_type": "code",
      "execution_count": 6,
      "metadata": {},
      "outputs": [
        {
          "name": "stdout",
          "output_type": "stream",
          "text": [
            "      accuracy  aupr_micro  auc_micro  f1_macro  precision_macro  recall_macro\n",
            "128     0.9198      0.9597     0.9987    0.8376           0.8880        0.8060\n",
            "256     0.9180      0.9597     0.9986    0.8461           0.8878        0.8195\n",
            "512     0.9129      0.9543     0.9985    0.8260           0.8910        0.7947\n",
            "1024    0.9053      0.9482     0.9983    0.8028           0.8630        0.7686\n",
            "2048    0.9144      0.9578     0.9985    0.8334           0.8759        0.8062\n"
          ]
        }
      ],
      "source": [
        "bs = get_res(['128', '256', '512', '1024', '2048'])"
      ]
    },
    {
      "cell_type": "code",
      "execution_count": 7,
      "metadata": {},
      "outputs": [
        {
          "name": "stdout",
          "output_type": "stream",
          "text": [
            "          accuracy  aupr_micro  auc_micro  f1_macro  precision_macro  \\\n",
            "epoch40     0.9122      0.9567     0.9984    0.8345           0.8711   \n",
            "epoch60     0.9129      0.9555     0.9983    0.8340           0.8917   \n",
            "epoch80     0.9177      0.9583     0.9983    0.8345           0.8917   \n",
            "epoch100    0.9136      0.9568     0.9983    0.8446           0.9017   \n",
            "epoch120    0.9151      0.9551     0.9982    0.8325           0.8804   \n",
            "\n",
            "          recall_macro  \n",
            "epoch40         0.8090  \n",
            "epoch60         0.7948  \n",
            "epoch80         0.8086  \n",
            "epoch100        0.8078  \n",
            "epoch120        0.8076  \n"
          ]
        }
      ],
      "source": [
        "epo = get_res(['epoch40', 'epoch60', 'epoch80', 'epoch100', 'epoch120'])"
      ]
    },
    {
      "cell_type": "code",
      "execution_count": 8,
      "metadata": {},
      "outputs": [
        {
          "data": {
            "image/png": "[encoded data removed]",
            "text/plain": [
              "<Figure size 576x432 with 1 Axes>"
            ]
          },
          "metadata": {
            "needs_background": "light"
          },
          "output_type": "display_data"
        }
      ],
      "source": [
        "plt.figure(figsize=(8, 6))\n",
        "plt.plot(epo.iloc[:, 0], \"o-\", label=\"Accuracy\")\n",
        "plt.plot(epo.iloc[:, 1], \"^-\", label=\"AUPR\")\n",
        "plt.plot(epo.iloc[:, 2], \"s-\", label=\"AUC\")\n",
        "plt.plot(epo.iloc[:, 3], \"h-\", label=\"F1\")\n",
        "plt.plot(epo.iloc[:, 4], \"d-\", label=\"Precision\")\n",
        "plt.plot(epo.iloc[:, 5], \"p-\", label=\"Recall\")\n",
        "\n",
        "# plt.title(\"K Folds of Cross Validation\")\n",
        "plt.title(\"Training Epochs\")\n",
        "# plt.title(\"Batch Size\")\n",
        "# xlabel = [\"2\", \"3\", \"4\", \"5\", \"6\"]\n",
        "xlabel = [\"40\", \"60\", \"80\", \"100\", \"120\"]\n",
        "# xlabel = [\"128\", \"256\", \"512\", \"1024\", \"2048\"]\n",
        "plt.xticks(range(0, 5), xlabel)\n",
        "plt.legend()\n",
        "\n",
        "# plt.savefig('/Users/ZHao/Downloads/experiments/epo.svg')\n",
        "plt.show()"
      ]
    }
  ],
  "metadata": {
    "accelerator": "GPU",
    "colab": {
      "collapsed_sections": [
        "mQjoB8u2eKe7",
        "9awh5pBeeKe-",
        "bdTuoeiLeKe_",
        "cKCsIJNOeKe_",
        "CUzcDdUdeKe_",
        "5ZkoFgtdeKfA",
        "n6NRi2VpeKfC",
        "v7PXBEHQeKfC",
        "WJyMf0AyDzFr",
        "TIQrw1AKCdaF",
        "OCnUrFpCCdaG",
        "-CThUUkRCdaI",
        "uFzXjk4mDzFt",
        "4kuqahhxDzFt",
        "3Pp2A2N3DzFu",
        "LVZv8Mw1DzFu",
        "11S2Fs7iDzFu",
        "UsF7VqwZeKfD",
        "m425KHhNeKfD",
        "9rggZUTNeKfD"
      ],
      "provenance": []
    },
    "kernelspec": {
      "display_name": "Python 3.9.10 ('dl')",
      "language": "python",
      "name": "python3"
    },
    "language_info": {
      "codemirror_mode": {
        "name": "ipython",
        "version": 3
      },
      "file_extension": ".py",
      "mimetype": "text/x-python",
      "name": "python",
      "nbconvert_exporter": "python",
      "pygments_lexer": "ipython3",
      "version": "3.9.10"
    },
    "vscode": {
      "interpreter": {
        "hash": "0e963d61ae5592af78c1a29f643d857bd502442649449ec5cf61b348680e7239"
      }
    }
  },
  "nbformat": 4,
  "nbformat_minor": 0
}
